{
 "cells": [
  {
   "cell_type": "code",
   "execution_count": 1,
   "metadata": {},
   "outputs": [],
   "source": [
    "include(\"./tools.jl\")\n",
    "using Plots\n",
    "colorbar = cgrad(:linear_tritanopic_krjcw_5_98_c46_n256, rev = true);"
   ]
  },
  {
   "cell_type": "code",
   "execution_count": 35,
   "metadata": {},
   "outputs": [
    {
     "data": {
      "text/plain": [
       "1-element Vector{BinaryBases{ParticleNumber, BinaryBasis{UInt64}, Vector{BinaryBasis{UInt64}}}}:\n",
       " {2^[1 2 3 4 5 6 7 8]: ParticleNumber(2.0)}"
      ]
     },
     "metadata": {},
     "output_type": "display_data"
    }
   ],
   "source": [
    "unitcell = Lattice([0, 0]; vectors=[[1, 0], [0, 1]])\n",
    "cluster = Lattice(unitcell, (2,2), ('p','p'))\n",
    "hilbert = Hilbert(site=>Fock{:f}(1, 2) for site=1:length(cluster))\n",
    "bs = Sector(hilbert, ParticleNumber(4))\n",
    "t = Hopping(:t, -1.0, 1)\n",
    "t2 = Hopping(:t2, 0.0, 1)\n",
    "U = Hubbard(:U, 8.0)\n",
    "μ = Onsite(:μ, -0.0)\n",
    "μ_r = Onsite(:μ_r, -0.0)\n",
    "origiterms = (t,t2 , U, μ)\n",
    "referterms = (t,t2 , U, μ_r)\n",
    "neighbors = Neighbors(0=>0.0, 1=>1.0, 2=>√2)\n",
    "opencluster = Lattice([cluster.coordinates[:, i] for i in 1:size(cluster.coordinates, 2)]...; name=:opencluster) \n",
    "ed = ED(cluster, hilbert, referterms, (ParticleNumber(1), ParticleNumber(2), ParticleNumber(3), ParticleNumber(4)))\n",
    "eig = eigen(ed)\n",
    "eig.sectors"
   ]
  },
  {
   "cell_type": "code",
   "execution_count": 7,
   "metadata": {},
   "outputs": [
    {
     "data": {
      "text/plain": [
       "(:lattice, :H, :Hₘ)"
      ]
     },
     "metadata": {},
     "output_type": "display_data"
    }
   ],
   "source": [
    "fieldnames(ED)"
   ]
  },
  {
   "cell_type": "code",
   "execution_count": 9,
   "metadata": {},
   "outputs": [
    {
     "data": {
      "text/plain": [
       "(:operators, :terms, :bonds, :hilbert, :half, :table)"
      ]
     },
     "metadata": {},
     "output_type": "display_data"
    }
   ],
   "source": [
    "fieldnames(typeof(ed.H))"
   ]
  },
  {
   "cell_type": "code",
   "execution_count": 12,
   "metadata": {},
   "outputs": [
    {
     "data": {
      "text/plain": [
       "(:operators, :transformation, :table, :sourceid)"
      ]
     },
     "metadata": {},
     "output_type": "display_data"
    }
   ],
   "source": [
    "fieldnames(typeof(ed.Hₘ))"
   ]
  },
  {
   "cell_type": "code",
   "execution_count": 18,
   "metadata": {},
   "outputs": [
    {
     "data": {
      "text/plain": [
       "{2^[1 2 3 4 5 6 7 8]: ParticleNumber(4.0)}"
      ]
     },
     "metadata": {},
     "output_type": "display_data"
    }
   ],
   "source": [
    "ed.Hₘ.transformation.brakets[1][1]\n"
   ]
  },
  {
   "cell_type": "code",
   "execution_count": 24,
   "metadata": {},
   "outputs": [
    {
     "data": {
      "text/plain": [
       "Dict{Tuple{BinaryBases{ParticleNumber, BinaryBasis{UInt64}, Vector{BinaryBasis{UInt64}}}, BinaryBases{ParticleNumber, BinaryBasis{UInt64}, Vector{BinaryBasis{UInt64}}}}, EDMatrix{BinaryBases{ParticleNumber, BinaryBasis{UInt64}, Vector{BinaryBasis{UInt64}}}, SparseArrays.SparseMatrixCSC{Float64, Int64}}} with 1 entry:\n",
       "  ({2^[1 2 3 4 5 6 7 8]: P… => EDMatrix{BinaryBases{ParticleNumber, BinaryBasis…"
      ]
     },
     "metadata": {},
     "output_type": "display_data"
    }
   ],
   "source": [
    "matrix(ed).contents"
   ]
  }
 ],
 "metadata": {
  "kernelspec": {
   "display_name": "Julia 1.9.4",
   "language": "julia",
   "name": "julia-1.9"
  },
  "language_info": {
   "file_extension": ".jl",
   "mimetype": "application/julia",
   "name": "julia",
   "version": "1.9.4"
  }
 },
 "nbformat": 4,
 "nbformat_minor": 2
}
