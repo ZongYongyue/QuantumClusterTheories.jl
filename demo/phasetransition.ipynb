{
 "cells": [
  {
   "cell_type": "code",
   "execution_count": 9,
   "metadata": {},
   "outputs": [],
   "source": [
    "include(\"./supplement.jl\")\n",
    "using Plots\n",
    "using Distributed"
   ]
  },
  {
   "cell_type": "code",
   "execution_count": null,
   "metadata": {},
   "outputs": [],
   "source": [
    "unitcell = Lattice([0, 0]; vectors=[[1, 0],[0, 1]])\n",
    "cluster = Lattice(unitcell,(2,2),('p','p'))\n",
    "hilbert = Hilbert(site=>Fock{:f}(1, 2) for site=1:length(cluster))\n",
    "bs = Sector(hilbert, SpinfulParticle(4, 0.0))\n",
    "t = Hopping(:t, Complex(-1.0), 1)\n",
    "U = Hubbard(:U, Complex(0.0))\n",
    "μ = Onsite(:μ, Complex(-0.0))\n",
    "origiterms = (t, U, μ)\n",
    "t_r = Hopping(:t, Complex(-1.0), 1)\n",
    "af = Onsite(:af, Complex(0.0), MatrixCoupling(:, FID, :, σ\"z\", :); amplitude=antiferro([π, π]))\n",
    "referterms = (t_r, U, μ, af)\n",
    "neighbors = Neighbors(0=>0.0, 1=>1.0)\n",
    "varparams = [(U = u, af = a) for u in [2,4,8,12,16], a in range(1e-9, 0.3, 25)]\n",
    "rz = ReciprocalZone(reciprocals(cluster.vectors); length=100)\n",
    "spawn(4)\n",
    "@everywhere begin\n",
    "    include(\"./supplement.jl\")\n",
    "end \n",
    "@time vcas = pmap(param -> VCA(:N, unitcell, cluster, hilbert, origiterms, referterms, bs, param; neighbors=neighbors, m=200), varparams)\n",
    "@time gps = pmap(vca -> GrandPotential(:f, vca, rz, real(Parameters(vca.refergenerator)[:U]/2)), vcas)\n",
    "\n",
    "f = plot(range(0, 0.3, 25), gps[1,:].-gps[1,1], label=\"U=2\", legend=:topright, title=\"Ω-Ω₀ vs M\")\n",
    "plot!(range(0, 0.3, 25), gps[2,:].-gps[2,1], label=\"U=4\", legend=:topright, title=\"Ω-Ω₀ vs M\")\n",
    "plot!(range(0, 0.3, 25), gps[3,:].-gps[3,1], label=\"U=8\", legend=:topright, title=\"Ω-Ω₀ vs M\")\n",
    "plot!(range(0, 0.3, 25), gps[4,:].-gps[4,1], label=\"U=12\", legend=:topright, title=\"Ω-Ω₀ vs M\")\n",
    "plot!(range(0, 0.3, 25), gps[5,:].-gps[5,1], label=\"U=16\", legend=:topright, title=\"Ω-Ω₀ vs M\")"
   ]
  },
  {
   "cell_type": "code",
   "execution_count": null,
   "metadata": {},
   "outputs": [],
   "source": [
    "unitcell = Lattice([0, 0]; vectors=[[1, 0], [0, 1]])\n",
    "cluster = Lattice(unitcell, (2,2), ('p','p'))\n",
    "hilbert = Hilbert(site=>Fock{:f}(1, 2) for site=1:length(cluster))\n",
    "bs = BinaryBases(1:4,5:8, 0.0)\n",
    "t = Hopping(:t, -1.0, 1)\n",
    "U = Hubbard(:U, 8.0)\n",
    "μ = Onsite(:μ, -1.2)\n",
    "coupling=Coupling(Index(:, FID(1, 1//2, 1)), Index(:, FID(1, -1//2, 1)))-Coupling(Index(:, FID(1, -1//2, 1)), Index(:, FID(1, 1//2, 1)))\n",
    "origiterms = (t, U, μ)\n",
    "neighbors = Neighbors(0=>0.0, 1=>1.0, 2=>√2)\n",
    "\n",
    "s = Pairing(:s, 0.3, 0, coupling/2)\n",
    "D = Pairing(:D, 0.3, 1, coupling/2; amplitude=phase_by_azimuth([(0,π,2π),(π/2,3π/2)],[1.0,-1.0]))\n",
    "Es = Pairing(:Es, 0.3, 1, coupling/2)\n",
    "Dxy = Pairing(:Dxy, 0.3, 2, coupling/2; amplitude=phase_by_azimuth([(π/4,5π/4),(3π/4,7π/4)],[1.0, -1.0]))\n",
    "\n",
    "refertermss = [(t, U, μ, s),(t, U, μ, D),(t, U, μ, Es),(t, U, μ, Dxy)]\n",
    "r = range(1e-9, 0.3, 25)\n",
    "varparamss = [[(s = a,) for a in r], [(D = a,) for a in r], [(Es = a,) for a in r], [(Dxy = a,) for a in r]]\n",
    "rz = ReciprocalZone(reciprocals(cluster.vectors); length=100)\n",
    "spawn(4)\n",
    "@everywhere begin\n",
    "    include(\"./supplement.jl\")\n",
    "end \n",
    "@time vcas1 = pmap(param -> VCA(:A, unitcell, cluster, hilbert, origiterms, refertermss[1], bs, param; neighbors=neighbors, m=200), varparams1)\n",
    "@time gps1 = pmap(vca -> GrandPotential(:f, vca, rz, 0.0), vcas1)\n",
    "@time vcas2 = pmap(param -> VCA(:A, unitcell, cluster, hilbert, origiterms, refertermss[2], bs, param; neighbors=neighbors, m=200), varparams2)\n",
    "@time gps2 = pmap(vca -> GrandPotential(:f, vca, rz, 0.0), vcas2)\n",
    "@time vcas3 = pmap(param -> VCA(:A, unitcell, cluster, hilbert, origiterms, refertermss[3], bs, param; neighbors=neighbors, m=200), varparams3)\n",
    "@time gps3 = pmap(vca -> GrandPotential(:f, vca, rz, 0.0), vcas3)\n",
    "@time vcas4 = pmap(param -> VCA(:A, unitcell, cluster, hilbert, origiterms, refertermss[4], bs, param; neighbors=neighbors, m=200), varparams4)\n",
    "@time gps4 = pmap(vca -> GrandPotential(:f, vca, rz, 0.0), vcas4)\n",
    "\n",
    "f = plot(range(0, 0.3, 25), gps1, label=\"s\", legend=:topright, title=\"Ω vs M\")\n",
    "plot!(range(0, 0.3, 25), gps2, label=\"d_{x²-y²}\", legend=:topright, title=\"Ω vs M\")\n",
    "plot!(range(0, 0.3, 25), gps3, label=\"extended s\", legend=:topright, title=\"Ω vs M\")\n",
    "plot!(range(0, 0.3, 25), gps4, label=\"d_{xy}\", legend=:topright, title=\"Ω vs M\")\n"
   ]
  }
 ],
 "metadata": {
  "kernelspec": {
   "display_name": "Julia 1.9.4",
   "language": "julia",
   "name": "julia-1.9"
  },
  "language_info": {
   "file_extension": ".jl",
   "mimetype": "application/julia",
   "name": "julia",
   "version": "1.9.4"
  }
 },
 "nbformat": 4,
 "nbformat_minor": 2
}
